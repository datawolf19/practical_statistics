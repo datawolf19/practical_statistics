{
 "cells": [
  {
   "cell_type": "markdown",
   "metadata": {},
   "source": [
    "# Chi Square Tests\n",
    "\n",
    "https://towardsdatascience.com/running-chi-square-tests-in-python-with-die-roll-data-b9903817c51b\n",
    "\n",
    "This is recreating the tutorial from the above link."
   ]
  },
  {
   "cell_type": "markdown",
   "metadata": {},
   "source": [
    "### Notes\n",
    "\n",
    "Chi Square determines if there is a significant difference between the expected distribution (null model) and the actual distribution (observations). \n",
    "\n",
    "Chi Square is for counting frequencies of categorical data. Think of die rolls, we expect that each number on the die should come up about 1/6th of the time. This would be the definition of a fair die. This would be especially true if we rolled the die 1,000 times we would expect a fair die to mirror this frequency distribution."
   ]
  },
  {
   "cell_type": "code",
   "execution_count": 71,
   "metadata": {},
   "outputs": [],
   "source": [
    "from random import randint\n",
    "rolls = 1000\n",
    "\n",
    "frequency = [randint(1,6) for i in range(rolls)]"
   ]
  },
  {
   "cell_type": "code",
   "execution_count": 72,
   "metadata": {},
   "outputs": [],
   "source": [
    "import pandas as pd\n",
    "import numpy as np"
   ]
  },
  {
   "cell_type": "code",
   "execution_count": 73,
   "metadata": {},
   "outputs": [],
   "source": [
    "s = pd.Series(frequency)"
   ]
  },
  {
   "cell_type": "code",
   "execution_count": 74,
   "metadata": {},
   "outputs": [],
   "source": [
    "df = pd.DataFrame(dict(s.value_counts()), index=[0], columns=[1,2,3,4,5,6])"
   ]
  },
  {
   "cell_type": "code",
   "execution_count": 75,
   "metadata": {},
   "outputs": [
    {
     "data": {
      "text/html": [
       "<div>\n",
       "<style scoped>\n",
       "    .dataframe tbody tr th:only-of-type {\n",
       "        vertical-align: middle;\n",
       "    }\n",
       "\n",
       "    .dataframe tbody tr th {\n",
       "        vertical-align: top;\n",
       "    }\n",
       "\n",
       "    .dataframe thead th {\n",
       "        text-align: right;\n",
       "    }\n",
       "</style>\n",
       "<table border=\"1\" class=\"dataframe\">\n",
       "  <thead>\n",
       "    <tr style=\"text-align: right;\">\n",
       "      <th></th>\n",
       "      <th>1</th>\n",
       "      <th>2</th>\n",
       "      <th>3</th>\n",
       "      <th>4</th>\n",
       "      <th>5</th>\n",
       "      <th>6</th>\n",
       "    </tr>\n",
       "  </thead>\n",
       "  <tbody>\n",
       "    <tr>\n",
       "      <th>0</th>\n",
       "      <td>0.16</td>\n",
       "      <td>0.178</td>\n",
       "      <td>0.154</td>\n",
       "      <td>0.176</td>\n",
       "      <td>0.163</td>\n",
       "      <td>0.169</td>\n",
       "    </tr>\n",
       "  </tbody>\n",
       "</table>\n",
       "</div>"
      ],
      "text/plain": [
       "      1      2      3      4      5      6\n",
       "0  0.16  0.178  0.154  0.176  0.163  0.169"
      ]
     },
     "execution_count": 75,
     "metadata": {},
     "output_type": "execute_result"
    }
   ],
   "source": [
    "df/df.T.sum()[0]"
   ]
  },
  {
   "cell_type": "code",
   "execution_count": 76,
   "metadata": {},
   "outputs": [
    {
     "data": {
      "text/plain": [
       "<matplotlib.axes._subplots.AxesSubplot at 0x7ff092066a90>"
      ]
     },
     "execution_count": 76,
     "metadata": {},
     "output_type": "execute_result"
    },
    {
     "data": {
      "image/png": "[encoded data removed]",
      "text/plain": [
       "<Figure size 432x288 with 1 Axes>"
      ]
     },
     "metadata": {
      "needs_background": "light"
     },
     "output_type": "display_data"
    }
   ],
   "source": [
    "df.plot(kind='bar')"
   ]
  },
  {
   "cell_type": "markdown",
   "metadata": {},
   "source": [
    "### Known vs Unknown Distributions\n",
    "\n",
    "For die rolls we know what the _expected distribution_ is. However, there are some cases where we don't and instead our expected distribution is estimated through data. \n",
    "\n",
    "For this example, let's assume we don't know what the expected frequency of die rolls."
   ]
  },
  {
   "cell_type": "code",
   "execution_count": 78,
   "metadata": {},
   "outputs": [],
   "source": [
    "samples = {'a': [6,8,5,4,5,7],\n",
    "           'b': [4,5,4,11,8,3],\n",
    "           'c': [5,3,8,7,7,5],\n",
    "           'd': [10, 3, 4, 13, 6,9]}"
   ]
  },
  {
   "cell_type": "code",
   "execution_count": 80,
   "metadata": {},
   "outputs": [],
   "source": [
    "df_die = pd.DataFrame(data=samples, index=['one', 'two', 'three',\n",
    "                                           'four', 'five', 'six'])"
   ]
  },
  {
   "cell_type": "code",
   "execution_count": 88,
   "metadata": {},
   "outputs": [],
   "source": [
    "# Adding Total Distribution\n",
    "df_die['total_dist'] = df_die.sum(axis=1)"
   ]
  },
  {
   "cell_type": "code",
   "execution_count": 89,
   "metadata": {},
   "outputs": [
    {
     "data": {
      "text/html": [
       "<div>\n",
       "<style scoped>\n",
       "    .dataframe tbody tr th:only-of-type {\n",
       "        vertical-align: middle;\n",
       "    }\n",
       "\n",
       "    .dataframe tbody tr th {\n",
       "        vertical-align: top;\n",
       "    }\n",
       "\n",
       "    .dataframe thead th {\n",
       "        text-align: right;\n",
       "    }\n",
       "</style>\n",
       "<table border=\"1\" class=\"dataframe\">\n",
       "  <thead>\n",
       "    <tr style=\"text-align: right;\">\n",
       "      <th></th>\n",
       "      <th>a</th>\n",
       "      <th>b</th>\n",
       "      <th>c</th>\n",
       "      <th>d</th>\n",
       "      <th>total_dist</th>\n",
       "    </tr>\n",
       "  </thead>\n",
       "  <tbody>\n",
       "    <tr>\n",
       "      <th>one</th>\n",
       "      <td>6</td>\n",
       "      <td>4</td>\n",
       "      <td>5</td>\n",
       "      <td>10</td>\n",
       "      <td>25.0</td>\n",
       "    </tr>\n",
       "    <tr>\n",
       "      <th>two</th>\n",
       "      <td>8</td>\n",
       "      <td>5</td>\n",
       "      <td>3</td>\n",
       "      <td>3</td>\n",
       "      <td>19.0</td>\n",
       "    </tr>\n",
       "    <tr>\n",
       "      <th>three</th>\n",
       "      <td>5</td>\n",
       "      <td>4</td>\n",
       "      <td>8</td>\n",
       "      <td>4</td>\n",
       "      <td>21.0</td>\n",
       "    </tr>\n",
       "    <tr>\n",
       "      <th>four</th>\n",
       "      <td>4</td>\n",
       "      <td>11</td>\n",
       "      <td>7</td>\n",
       "      <td>13</td>\n",
       "      <td>35.0</td>\n",
       "    </tr>\n",
       "    <tr>\n",
       "      <th>five</th>\n",
       "      <td>5</td>\n",
       "      <td>8</td>\n",
       "      <td>7</td>\n",
       "      <td>6</td>\n",
       "      <td>26.0</td>\n",
       "    </tr>\n",
       "    <tr>\n",
       "      <th>six</th>\n",
       "      <td>7</td>\n",
       "      <td>3</td>\n",
       "      <td>5</td>\n",
       "      <td>9</td>\n",
       "      <td>24.0</td>\n",
       "    </tr>\n",
       "  </tbody>\n",
       "</table>\n",
       "</div>"
      ],
      "text/plain": [
       "       a   b  c   d  total_dist\n",
       "one    6   4  5  10        25.0\n",
       "two    8   5  3   3        19.0\n",
       "three  5   4  8   4        21.0\n",
       "four   4  11  7  13        35.0\n",
       "five   5   8  7   6        26.0\n",
       "six    7   3  5   9        24.0"
      ]
     },
     "execution_count": 89,
     "metadata": {},
     "output_type": "execute_result"
    }
   ],
   "source": [
    "# Quick Preview\n",
    "df_die"
   ]
  },
  {
   "cell_type": "code",
   "execution_count": 119,
   "metadata": {},
   "outputs": [],
   "source": [
    "# Adding Table Column Totals\n",
    "df_die = df_die.append(pd.DataFrame({'total_rolls': df_die.sum(axis=0).values}, index=['a','b','c','d','total_dist']).T)"
   ]
  },
  {
   "cell_type": "code",
   "execution_count": 120,
   "metadata": {},
   "outputs": [
    {
     "data": {
      "text/html": [
       "<div>\n",
       "<style scoped>\n",
       "    .dataframe tbody tr th:only-of-type {\n",
       "        vertical-align: middle;\n",
       "    }\n",
       "\n",
       "    .dataframe tbody tr th {\n",
       "        vertical-align: top;\n",
       "    }\n",
       "\n",
       "    .dataframe thead th {\n",
       "        text-align: right;\n",
       "    }\n",
       "</style>\n",
       "<table border=\"1\" class=\"dataframe\">\n",
       "  <thead>\n",
       "    <tr style=\"text-align: right;\">\n",
       "      <th></th>\n",
       "      <th>a</th>\n",
       "      <th>b</th>\n",
       "      <th>c</th>\n",
       "      <th>d</th>\n",
       "      <th>total_dist</th>\n",
       "    </tr>\n",
       "  </thead>\n",
       "  <tbody>\n",
       "    <tr>\n",
       "      <th>one</th>\n",
       "      <td>6.0</td>\n",
       "      <td>4.0</td>\n",
       "      <td>5.0</td>\n",
       "      <td>10.0</td>\n",
       "      <td>25.0</td>\n",
       "    </tr>\n",
       "    <tr>\n",
       "      <th>two</th>\n",
       "      <td>8.0</td>\n",
       "      <td>5.0</td>\n",
       "      <td>3.0</td>\n",
       "      <td>3.0</td>\n",
       "      <td>19.0</td>\n",
       "    </tr>\n",
       "    <tr>\n",
       "      <th>three</th>\n",
       "      <td>5.0</td>\n",
       "      <td>4.0</td>\n",
       "      <td>8.0</td>\n",
       "      <td>4.0</td>\n",
       "      <td>21.0</td>\n",
       "    </tr>\n",
       "    <tr>\n",
       "      <th>four</th>\n",
       "      <td>4.0</td>\n",
       "      <td>11.0</td>\n",
       "      <td>7.0</td>\n",
       "      <td>13.0</td>\n",
       "      <td>35.0</td>\n",
       "    </tr>\n",
       "    <tr>\n",
       "      <th>five</th>\n",
       "      <td>5.0</td>\n",
       "      <td>8.0</td>\n",
       "      <td>7.0</td>\n",
       "      <td>6.0</td>\n",
       "      <td>26.0</td>\n",
       "    </tr>\n",
       "    <tr>\n",
       "      <th>six</th>\n",
       "      <td>7.0</td>\n",
       "      <td>3.0</td>\n",
       "      <td>5.0</td>\n",
       "      <td>9.0</td>\n",
       "      <td>24.0</td>\n",
       "    </tr>\n",
       "    <tr>\n",
       "      <th>total_rolls</th>\n",
       "      <td>35.0</td>\n",
       "      <td>35.0</td>\n",
       "      <td>35.0</td>\n",
       "      <td>45.0</td>\n",
       "      <td>150.0</td>\n",
       "    </tr>\n",
       "  </tbody>\n",
       "</table>\n",
       "</div>"
      ],
      "text/plain": [
       "                a     b     c     d  total_dist\n",
       "one           6.0   4.0   5.0  10.0        25.0\n",
       "two           8.0   5.0   3.0   3.0        19.0\n",
       "three         5.0   4.0   8.0   4.0        21.0\n",
       "four          4.0  11.0   7.0  13.0        35.0\n",
       "five          5.0   8.0   7.0   6.0        26.0\n",
       "six           7.0   3.0   5.0   9.0        24.0\n",
       "total_rolls  35.0  35.0  35.0  45.0       150.0"
      ]
     },
     "execution_count": 120,
     "metadata": {},
     "output_type": "execute_result"
    }
   ],
   "source": [
    "df_die"
   ]
  },
  {
   "cell_type": "code",
   "execution_count": 130,
   "metadata": {},
   "outputs": [],
   "source": [
    "# Here Chi Square tests for independence b/t variables.\n",
    "dataset = []\n",
    "# excludes column grand totals\n",
    "for x in df_die.values[:-1]:\n",
    "    # Excludes total_dist\n",
    "    dataset.append(x[:4])\n",
    "\n",
    "dice = np.array(dataset)"
   ]
  },
  {
   "cell_type": "code",
   "execution_count": 131,
   "metadata": {},
   "outputs": [],
   "source": [
    "from scipy import stats"
   ]
  },
  {
   "cell_type": "code",
   "execution_count": 141,
   "metadata": {},
   "outputs": [
    {
     "data": {
      "text/plain": [
       "(16.490612061288754,\n",
       " 0.35021521809742745,\n",
       " 15,\n",
       " array([[ 5.83333333,  5.83333333,  5.83333333,  7.5       ],\n",
       "        [ 4.43333333,  4.43333333,  4.43333333,  5.7       ],\n",
       "        [ 4.9       ,  4.9       ,  4.9       ,  6.3       ],\n",
       "        [ 8.16666667,  8.16666667,  8.16666667, 10.5       ],\n",
       "        [ 6.06666667,  6.06666667,  6.06666667,  7.8       ],\n",
       "        [ 5.6       ,  5.6       ,  5.6       ,  7.2       ]]))"
      ]
     },
     "execution_count": 141,
     "metadata": {},
     "output_type": "execute_result"
    }
   ],
   "source": [
    "stats.chi2_contingency(dice)"
   ]
  },
  {
   "cell_type": "code",
   "execution_count": 144,
   "metadata": {},
   "outputs": [
    {
     "name": "stdout",
     "output_type": "stream",
     "text": [
      "Chi Square Stat: 16.490612061288754\n",
      "P-Value 0.35021521809742745\n",
      "Degrees of Freedom: 15\n",
      "Contingency Table: \n",
      "[[ 5.83333333  5.83333333  5.83333333  7.5       ]\n",
      " [ 4.43333333  4.43333333  4.43333333  5.7       ]\n",
      " [ 4.9         4.9         4.9         6.3       ]\n",
      " [ 8.16666667  8.16666667  8.16666667 10.5       ]\n",
      " [ 6.06666667  6.06666667  6.06666667  7.8       ]\n",
      " [ 5.6         5.6         5.6         7.2       ]]\n"
     ]
    }
   ],
   "source": [
    "print(f\"Chi Square Stat: {stats.chi2_contingency(dice)[0]}\")\n",
    "print(f\"P-Value {stats.chi2_contingency(dice)[1]}\")\n",
    "# Degrees of Freedom Row_Num-1 * Col_Num-1\n",
    "print(f\"Degrees of Freedom: {stats.chi2_contingency(dice)[2]}\")\n",
    "print(f\"Contingency Table: \\n{stats.chi2_contingency(dice)[3]}\")"
   ]
  },
  {
   "cell_type": "code",
   "execution_count": 140,
   "metadata": {},
   "outputs": [
    {
     "data": {
      "text/plain": [
       "15"
      ]
     },
     "execution_count": 140,
     "metadata": {},
     "output_type": "execute_result"
    }
   ],
   "source": [
    "# Manual Degree of Freedom calc\n",
    "(dice.shape[0]-1) * (dice.shape[1]-1)"
   ]
  },
  {
   "cell_type": "code",
   "execution_count": 207,
   "metadata": {},
   "outputs": [],
   "source": [
    "# This needs a function\n",
    "\n",
    "def chi_square_pretty(array):\n",
    "    arr = stats.chi2_contingency(array)\n",
    "    print(f\"Chi Square Stat: {arr[0]}\\n\")\n",
    "    print(f\"P-Value {arr[1]}\\n\")\n",
    "    # Degrees of Freedom Row_Num-1 * Col_Num-1\n",
    "    print(f\"Degrees of Freedom: {arr[2]}\\n\")\n",
    "    print(f\"Contingency Table: \\n\\n{arr[3]}\")\n",
    "    return pd.DataFrame(arr[3], columns=[i for i in range(1,arr[3].shape[1]+1)], index=[i for i in range(arr[3].shape[0])])"
   ]
  },
  {
   "cell_type": "code",
   "execution_count": 208,
   "metadata": {},
   "outputs": [
    {
     "name": "stdout",
     "output_type": "stream",
     "text": [
      "Chi Square Stat: 16.490612061288754\n",
      "\n",
      "P-Value 0.35021521809742745\n",
      "\n",
      "Degrees of Freedom: 15\n",
      "\n",
      "Contingency Table: \n",
      "\n",
      "[[ 5.83333333  5.83333333  5.83333333  7.5       ]\n",
      " [ 4.43333333  4.43333333  4.43333333  5.7       ]\n",
      " [ 4.9         4.9         4.9         6.3       ]\n",
      " [ 8.16666667  8.16666667  8.16666667 10.5       ]\n",
      " [ 6.06666667  6.06666667  6.06666667  7.8       ]\n",
      " [ 5.6         5.6         5.6         7.2       ]]\n"
     ]
    },
    {
     "data": {
      "text/html": [
       "<div>\n",
       "<style scoped>\n",
       "    .dataframe tbody tr th:only-of-type {\n",
       "        vertical-align: middle;\n",
       "    }\n",
       "\n",
       "    .dataframe tbody tr th {\n",
       "        vertical-align: top;\n",
       "    }\n",
       "\n",
       "    .dataframe thead th {\n",
       "        text-align: right;\n",
       "    }\n",
       "</style>\n",
       "<table border=\"1\" class=\"dataframe\">\n",
       "  <thead>\n",
       "    <tr style=\"text-align: right;\">\n",
       "      <th></th>\n",
       "      <th>1</th>\n",
       "      <th>2</th>\n",
       "      <th>3</th>\n",
       "      <th>4</th>\n",
       "    </tr>\n",
       "  </thead>\n",
       "  <tbody>\n",
       "    <tr>\n",
       "      <th>0</th>\n",
       "      <td>5.833333</td>\n",
       "      <td>5.833333</td>\n",
       "      <td>5.833333</td>\n",
       "      <td>7.5</td>\n",
       "    </tr>\n",
       "    <tr>\n",
       "      <th>1</th>\n",
       "      <td>4.433333</td>\n",
       "      <td>4.433333</td>\n",
       "      <td>4.433333</td>\n",
       "      <td>5.7</td>\n",
       "    </tr>\n",
       "    <tr>\n",
       "      <th>2</th>\n",
       "      <td>4.900000</td>\n",
       "      <td>4.900000</td>\n",
       "      <td>4.900000</td>\n",
       "      <td>6.3</td>\n",
       "    </tr>\n",
       "    <tr>\n",
       "      <th>3</th>\n",
       "      <td>8.166667</td>\n",
       "      <td>8.166667</td>\n",
       "      <td>8.166667</td>\n",
       "      <td>10.5</td>\n",
       "    </tr>\n",
       "    <tr>\n",
       "      <th>4</th>\n",
       "      <td>6.066667</td>\n",
       "      <td>6.066667</td>\n",
       "      <td>6.066667</td>\n",
       "      <td>7.8</td>\n",
       "    </tr>\n",
       "    <tr>\n",
       "      <th>5</th>\n",
       "      <td>5.600000</td>\n",
       "      <td>5.600000</td>\n",
       "      <td>5.600000</td>\n",
       "      <td>7.2</td>\n",
       "    </tr>\n",
       "  </tbody>\n",
       "</table>\n",
       "</div>"
      ],
      "text/plain": [
       "          1         2         3     4\n",
       "0  5.833333  5.833333  5.833333   7.5\n",
       "1  4.433333  4.433333  4.433333   5.7\n",
       "2  4.900000  4.900000  4.900000   6.3\n",
       "3  8.166667  8.166667  8.166667  10.5\n",
       "4  6.066667  6.066667  6.066667   7.8\n",
       "5  5.600000  5.600000  5.600000   7.2"
      ]
     },
     "execution_count": 208,
     "metadata": {},
     "output_type": "execute_result"
    }
   ],
   "source": [
    "chi_square_pretty(dice)"
   ]
  },
  {
   "cell_type": "markdown",
   "metadata": {},
   "source": [
    "### p-value\n",
    "\n",
    "Here, the p-value is where we will determine significance (aka \n",
    "independence). Typically, you look for a threshold of 0.05 or 0.01.\n",
    "If our test is significant, we reject the null hypothesis (that the\n",
    "variables are indepedent) meaning the variables are depedent.\n",
    "\n",
    "Here, let's use 0.01. We reject the null hypothesis in this case because the p-value is 0.35. The contingency table shows us an output \n",
    "of the expected values. Here, they are off because our sample was too small and it is not representative of the population.\n",
    "\n",
    "Let's do a bigger sample."
   ]
  },
  {
   "cell_type": "code",
   "execution_count": 222,
   "metadata": {},
   "outputs": [],
   "source": [
    "bigger_data = []\n",
    "for i in range(5):\n",
    "    bigger_data.append(np.unique(np.random.randint(1,7,10000), return_counts=True)[1])\n",
    "\n",
    "bigger_data = np.array(bigger_data)"
   ]
  },
  {
   "cell_type": "code",
   "execution_count": 223,
   "metadata": {},
   "outputs": [
    {
     "name": "stdout",
     "output_type": "stream",
     "text": [
      "Chi Square Stat: 17.807167107992388\n",
      "\n",
      "P-Value 0.600109456536146\n",
      "\n",
      "Degrees of Freedom: 20\n",
      "\n",
      "Contingency Table: \n",
      "\n",
      "[[16663377.  16668653.2 16668204.6 16665412.  16667754.  16666599.2]\n",
      " [16663377.  16668653.2 16668204.6 16665412.  16667754.  16666599.2]\n",
      " [16663377.  16668653.2 16668204.6 16665412.  16667754.  16666599.2]\n",
      " [16663377.  16668653.2 16668204.6 16665412.  16667754.  16666599.2]\n",
      " [16663377.  16668653.2 16668204.6 16665412.  16667754.  16666599.2]]\n"
     ]
    },
    {
     "data": {
      "text/html": [
       "<div>\n",
       "<style scoped>\n",
       "    .dataframe tbody tr th:only-of-type {\n",
       "        vertical-align: middle;\n",
       "    }\n",
       "\n",
       "    .dataframe tbody tr th {\n",
       "        vertical-align: top;\n",
       "    }\n",
       "\n",
       "    .dataframe thead th {\n",
       "        text-align: right;\n",
       "    }\n",
       "</style>\n",
       "<table border=\"1\" class=\"dataframe\">\n",
       "  <thead>\n",
       "    <tr style=\"text-align: right;\">\n",
       "      <th></th>\n",
       "      <th>1</th>\n",
       "      <th>2</th>\n",
       "      <th>3</th>\n",
       "      <th>4</th>\n",
       "      <th>5</th>\n",
       "      <th>6</th>\n",
       "    </tr>\n",
       "  </thead>\n",
       "  <tbody>\n",
       "    <tr>\n",
       "      <th>0</th>\n",
       "      <td>0.166634</td>\n",
       "      <td>0.166687</td>\n",
       "      <td>0.166682</td>\n",
       "      <td>0.166654</td>\n",
       "      <td>0.166678</td>\n",
       "      <td>0.166666</td>\n",
       "    </tr>\n",
       "    <tr>\n",
       "      <th>1</th>\n",
       "      <td>0.166634</td>\n",
       "      <td>0.166687</td>\n",
       "      <td>0.166682</td>\n",
       "      <td>0.166654</td>\n",
       "      <td>0.166678</td>\n",
       "      <td>0.166666</td>\n",
       "    </tr>\n",
       "    <tr>\n",
       "      <th>2</th>\n",
       "      <td>0.166634</td>\n",
       "      <td>0.166687</td>\n",
       "      <td>0.166682</td>\n",
       "      <td>0.166654</td>\n",
       "      <td>0.166678</td>\n",
       "      <td>0.166666</td>\n",
       "    </tr>\n",
       "    <tr>\n",
       "      <th>3</th>\n",
       "      <td>0.166634</td>\n",
       "      <td>0.166687</td>\n",
       "      <td>0.166682</td>\n",
       "      <td>0.166654</td>\n",
       "      <td>0.166678</td>\n",
       "      <td>0.166666</td>\n",
       "    </tr>\n",
       "    <tr>\n",
       "      <th>4</th>\n",
       "      <td>0.166634</td>\n",
       "      <td>0.166687</td>\n",
       "      <td>0.166682</td>\n",
       "      <td>0.166654</td>\n",
       "      <td>0.166678</td>\n",
       "      <td>0.166666</td>\n",
       "    </tr>\n",
       "  </tbody>\n",
       "</table>\n",
       "</div>"
      ],
      "text/plain": [
       "          1         2         3         4         5         6\n",
       "0  0.166634  0.166687  0.166682  0.166654  0.166678  0.166666\n",
       "1  0.166634  0.166687  0.166682  0.166654  0.166678  0.166666\n",
       "2  0.166634  0.166687  0.166682  0.166654  0.166678  0.166666\n",
       "3  0.166634  0.166687  0.166682  0.166654  0.166678  0.166666\n",
       "4  0.166634  0.166687  0.166682  0.166654  0.166678  0.166666"
      ]
     },
     "execution_count": 223,
     "metadata": {},
     "output_type": "execute_result"
    }
   ],
   "source": [
    "chi_square_pretty(bigger_data)/10000"
   ]
  },
  {
   "cell_type": "code",
   "execution_count": 227,
   "metadata": {},
   "outputs": [
    {
     "data": {
      "text/plain": [
       "Power_divergenceResult(statistic=17.49462365591398, pvalue=0.003651257113910144)"
      ]
     },
     "execution_count": 227,
     "metadata": {},
     "output_type": "execute_result"
    }
   ],
   "source": [
    "my_rolls_expected = [46.5, 46.5, 46.5, 46.5, 46.5, 46.5]\n",
    "my_rolls_actual =  [59, 63, 37, 38, 32, 50]\n",
    "stats.chisquare(my_rolls_actual, my_rolls_expected)"
   ]
  },
  {
   "cell_type": "code",
   "execution_count": 228,
   "metadata": {},
   "outputs": [
    {
     "data": {
      "text/plain": [
       "Power_divergenceResult(statistic=15.158415841584159, pvalue=0.009706469571756566)"
      ]
     },
     "execution_count": 228,
     "metadata": {},
     "output_type": "execute_result"
    }
   ],
   "source": [
    "opp_rolls_expected = [50.5,50.5,50.5,50.5,50.5,50.5]\n",
    "opp_rolls_actual =  [39,39,46,54,53,72]\n",
    "stats.chisquare(opp_rolls_actual, opp_rolls_expected)"
   ]
  },
  {
   "cell_type": "markdown",
   "metadata": {},
   "source": [
    "## ML Application\n",
    "\n",
    "https://machinelearningmastery.com/chi-squared-test-for-machine-learning/\n",
    "\n",
    "A common problem in ML is determining whether input features are relevant to the target variable / outcome to be predicted. This is a _feature selection_ problem.\n",
    "\n",
    "If the input variable is also categorical, we can use statistical tests to see if the output variable is dependent or independent of the input variables.\n",
    "\n"
   ]
  },
  {
   "cell_type": "markdown",
   "metadata": {},
   "source": [
    "#### Contingency Table\n",
    "\n",
    "This is essentially a frequency table for categorical variables for a set of labels. Requires two categorical variables. The name originates from Pearson who wanted to determine whether one variable is contingent upon or depends upon the other variable. \n",
    "\n",
    "#### Pearson's Chi-Squared Test\n",
    "\n",
    "Chi Square test is a _statistical hypothesis test_ that assumes (h0) that the observed frequencies for a categorical variable match the expected frequencies for the categorical variable. \n",
    "\n",
    "Chi = X pronounced \"ki\"."
   ]
  },
  {
   "cell_type": "code",
   "execution_count": null,
   "metadata": {},
   "outputs": [],
   "source": []
  }
 ],
 "metadata": {
  "kernelspec": {
   "display_name": "Python 3",
   "language": "python",
   "name": "python3"
  },
  "language_info": {
   "codemirror_mode": {
    "name": "ipython",
    "version": 3
   },
   "file_extension": ".py",
   "mimetype": "text/x-python",
   "name": "python",
   "nbconvert_exporter": "python",
   "pygments_lexer": "ipython3",
   "version": "3.7.6"
  }
 },
 "nbformat": 4,
 "nbformat_minor": 4
}
