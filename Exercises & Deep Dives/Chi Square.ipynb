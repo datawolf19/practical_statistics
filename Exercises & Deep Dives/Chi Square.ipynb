{
 "cells": [
  {
   "cell_type": "markdown",
   "metadata": {},
   "source": [
    "# Chi Square Tests\n",
    "\n",
    "https://towardsdatascience.com/running-chi-square-tests-in-python-with-die-roll-data-b9903817c51b\n",
    "\n",
    "This is recreating the tutorial from the above link."
   ]
  },
  {
   "cell_type": "markdown",
   "metadata": {},
   "source": [
    "### Notes\n",
    "\n",
    "Chi Square determines if there is a significant difference between the expected distribution (null model) and the actual distribution (observations). \n",
    "\n",
    "Chi Square is for counting frequencies of categorical data. Think of die rolls, we expect that each number on the die should come up about 1/6th of the time. This would be the definition of a fair die. This would be especially true if we rolled the die 1,000 times we would expect a fair die to mirror this frequency distribution."
   ]
  },
  {
   "cell_type": "code",
   "execution_count": 1,
   "metadata": {},
   "outputs": [],
   "source": [
    "from random import randint\n",
    "rolls = 1000\n",
    "\n",
    "frequency = [randint(1,6) for i in range(rolls)]"
   ]
  },
  {
   "cell_type": "code",
   "execution_count": 2,
   "metadata": {},
   "outputs": [],
   "source": [
    "import pandas as pd\n",
    "import numpy as np"
   ]
  },
  {
   "cell_type": "code",
   "execution_count": 3,
   "metadata": {},
   "outputs": [],
   "source": [
    "s = pd.Series(frequency)"
   ]
  },
  {
   "cell_type": "code",
   "execution_count": 4,
   "metadata": {},
   "outputs": [],
   "source": [
    "df = pd.DataFrame(dict(s.value_counts()), index=[0], columns=[1,2,3,4,5,6])"
   ]
  },
  {
   "cell_type": "code",
   "execution_count": 5,
   "metadata": {},
   "outputs": [
    {
     "data": {
      "text/html": [
       "<div>\n",
       "<style scoped>\n",
       "    .dataframe tbody tr th:only-of-type {\n",
       "        vertical-align: middle;\n",
       "    }\n",
       "\n",
       "    .dataframe tbody tr th {\n",
       "        vertical-align: top;\n",
       "    }\n",
       "\n",
       "    .dataframe thead th {\n",
       "        text-align: right;\n",
       "    }\n",
       "</style>\n",
       "<table border=\"1\" class=\"dataframe\">\n",
       "  <thead>\n",
       "    <tr style=\"text-align: right;\">\n",
       "      <th></th>\n",
       "      <th>1</th>\n",
       "      <th>2</th>\n",
       "      <th>3</th>\n",
       "      <th>4</th>\n",
       "      <th>5</th>\n",
       "      <th>6</th>\n",
       "    </tr>\n",
       "  </thead>\n",
       "  <tbody>\n",
       "    <tr>\n",
       "      <th>0</th>\n",
       "      <td>0.175</td>\n",
       "      <td>0.186</td>\n",
       "      <td>0.161</td>\n",
       "      <td>0.167</td>\n",
       "      <td>0.154</td>\n",
       "      <td>0.157</td>\n",
       "    </tr>\n",
       "  </tbody>\n",
       "</table>\n",
       "</div>"
      ],
      "text/plain": [
       "       1      2      3      4      5      6\n",
       "0  0.175  0.186  0.161  0.167  0.154  0.157"
      ]
     },
     "execution_count": 5,
     "metadata": {},
     "output_type": "execute_result"
    }
   ],
   "source": [
    "df/df.T.sum()[0]"
   ]
  },
  {
   "cell_type": "code",
   "execution_count": 6,
   "metadata": {},
   "outputs": [
    {
     "data": {
      "text/plain": [
       "<matplotlib.axes._subplots.AxesSubplot at 0x7f46de5e2650>"
      ]
     },
     "execution_count": 6,
     "metadata": {},
     "output_type": "execute_result"
    },
    {
     "data": {
      "image/png": "[encoded data removed]",
      "text/plain": [
       "<Figure size 432x288 with 1 Axes>"
      ]
     },
     "metadata": {
      "needs_background": "light"
     },
     "output_type": "display_data"
    }
   ],
   "source": [
    "df.plot(kind='bar')"
   ]
  },
  {
   "cell_type": "markdown",
   "metadata": {},
   "source": [
    "### Known vs Unknown Distributions\n",
    "\n",
    "For die rolls we know what the _expected distribution_ is. However, there are some cases where we don't and instead our expected distribution is estimated through data. \n",
    "\n",
    "For this example, let's assume we don't know what the expected frequency of die rolls."
   ]
  },
  {
   "cell_type": "code",
   "execution_count": 7,
   "metadata": {},
   "outputs": [],
   "source": [
    "samples = {'a': [6,8,5,4,5,7],\n",
    "           'b': [4,5,4,11,8,3],\n",
    "           'c': [5,3,8,7,7,5],\n",
    "           'd': [10, 3, 4, 13, 6,9]}"
   ]
  },
  {
   "cell_type": "code",
   "execution_count": 8,
   "metadata": {},
   "outputs": [],
   "source": [
    "df_die = pd.DataFrame(data=samples, index=['one', 'two', 'three',\n",
    "                                           'four', 'five', 'six'])"
   ]
  },
  {
   "cell_type": "code",
   "execution_count": 9,
   "metadata": {},
   "outputs": [],
   "source": [
    "# Adding Total Distribution\n",
    "df_die['total_dist'] = df_die.sum(axis=1)"
   ]
  },
  {
   "cell_type": "code",
   "execution_count": 10,
   "metadata": {},
   "outputs": [
    {
     "data": {
      "text/html": [
       "<div>\n",
       "<style scoped>\n",
       "    .dataframe tbody tr th:only-of-type {\n",
       "        vertical-align: middle;\n",
       "    }\n",
       "\n",
       "    .dataframe tbody tr th {\n",
       "        vertical-align: top;\n",
       "    }\n",
       "\n",
       "    .dataframe thead th {\n",
       "        text-align: right;\n",
       "    }\n",
       "</style>\n",
       "<table border=\"1\" class=\"dataframe\">\n",
       "  <thead>\n",
       "    <tr style=\"text-align: right;\">\n",
       "      <th></th>\n",
       "      <th>a</th>\n",
       "      <th>b</th>\n",
       "      <th>c</th>\n",
       "      <th>d</th>\n",
       "      <th>total_dist</th>\n",
       "    </tr>\n",
       "  </thead>\n",
       "  <tbody>\n",
       "    <tr>\n",
       "      <th>one</th>\n",
       "      <td>6</td>\n",
       "      <td>4</td>\n",
       "      <td>5</td>\n",
       "      <td>10</td>\n",
       "      <td>25</td>\n",
       "    </tr>\n",
       "    <tr>\n",
       "      <th>two</th>\n",
       "      <td>8</td>\n",
       "      <td>5</td>\n",
       "      <td>3</td>\n",
       "      <td>3</td>\n",
       "      <td>19</td>\n",
       "    </tr>\n",
       "    <tr>\n",
       "      <th>three</th>\n",
       "      <td>5</td>\n",
       "      <td>4</td>\n",
       "      <td>8</td>\n",
       "      <td>4</td>\n",
       "      <td>21</td>\n",
       "    </tr>\n",
       "    <tr>\n",
       "      <th>four</th>\n",
       "      <td>4</td>\n",
       "      <td>11</td>\n",
       "      <td>7</td>\n",
       "      <td>13</td>\n",
       "      <td>35</td>\n",
       "    </tr>\n",
       "    <tr>\n",
       "      <th>five</th>\n",
       "      <td>5</td>\n",
       "      <td>8</td>\n",
       "      <td>7</td>\n",
       "      <td>6</td>\n",
       "      <td>26</td>\n",
       "    </tr>\n",
       "    <tr>\n",
       "      <th>six</th>\n",
       "      <td>7</td>\n",
       "      <td>3</td>\n",
       "      <td>5</td>\n",
       "      <td>9</td>\n",
       "      <td>24</td>\n",
       "    </tr>\n",
       "  </tbody>\n",
       "</table>\n",
       "</div>"
      ],
      "text/plain": [
       "       a   b  c   d  total_dist\n",
       "one    6   4  5  10          25\n",
       "two    8   5  3   3          19\n",
       "three  5   4  8   4          21\n",
       "four   4  11  7  13          35\n",
       "five   5   8  7   6          26\n",
       "six    7   3  5   9          24"
      ]
     },
     "execution_count": 10,
     "metadata": {},
     "output_type": "execute_result"
    }
   ],
   "source": [
    "# Quick Preview\n",
    "df_die"
   ]
  },
  {
   "cell_type": "code",
   "execution_count": 11,
   "metadata": {},
   "outputs": [],
   "source": [
    "# Adding Table Column Totals\n",
    "df_die = df_die.append(pd.DataFrame({'total_rolls': df_die.sum(axis=0).values}, index=['a','b','c','d','total_dist']).T)"
   ]
  },
  {
   "cell_type": "code",
   "execution_count": 12,
   "metadata": {},
   "outputs": [
    {
     "data": {
      "text/html": [
       "<div>\n",
       "<style scoped>\n",
       "    .dataframe tbody tr th:only-of-type {\n",
       "        vertical-align: middle;\n",
       "    }\n",
       "\n",
       "    .dataframe tbody tr th {\n",
       "        vertical-align: top;\n",
       "    }\n",
       "\n",
       "    .dataframe thead th {\n",
       "        text-align: right;\n",
       "    }\n",
       "</style>\n",
       "<table border=\"1\" class=\"dataframe\">\n",
       "  <thead>\n",
       "    <tr style=\"text-align: right;\">\n",
       "      <th></th>\n",
       "      <th>a</th>\n",
       "      <th>b</th>\n",
       "      <th>c</th>\n",
       "      <th>d</th>\n",
       "      <th>total_dist</th>\n",
       "    </tr>\n",
       "  </thead>\n",
       "  <tbody>\n",
       "    <tr>\n",
       "      <th>one</th>\n",
       "      <td>6</td>\n",
       "      <td>4</td>\n",
       "      <td>5</td>\n",
       "      <td>10</td>\n",
       "      <td>25</td>\n",
       "    </tr>\n",
       "    <tr>\n",
       "      <th>two</th>\n",
       "      <td>8</td>\n",
       "      <td>5</td>\n",
       "      <td>3</td>\n",
       "      <td>3</td>\n",
       "      <td>19</td>\n",
       "    </tr>\n",
       "    <tr>\n",
       "      <th>three</th>\n",
       "      <td>5</td>\n",
       "      <td>4</td>\n",
       "      <td>8</td>\n",
       "      <td>4</td>\n",
       "      <td>21</td>\n",
       "    </tr>\n",
       "    <tr>\n",
       "      <th>four</th>\n",
       "      <td>4</td>\n",
       "      <td>11</td>\n",
       "      <td>7</td>\n",
       "      <td>13</td>\n",
       "      <td>35</td>\n",
       "    </tr>\n",
       "    <tr>\n",
       "      <th>five</th>\n",
       "      <td>5</td>\n",
       "      <td>8</td>\n",
       "      <td>7</td>\n",
       "      <td>6</td>\n",
       "      <td>26</td>\n",
       "    </tr>\n",
       "    <tr>\n",
       "      <th>six</th>\n",
       "      <td>7</td>\n",
       "      <td>3</td>\n",
       "      <td>5</td>\n",
       "      <td>9</td>\n",
       "      <td>24</td>\n",
       "    </tr>\n",
       "    <tr>\n",
       "      <th>total_rolls</th>\n",
       "      <td>35</td>\n",
       "      <td>35</td>\n",
       "      <td>35</td>\n",
       "      <td>45</td>\n",
       "      <td>150</td>\n",
       "    </tr>\n",
       "  </tbody>\n",
       "</table>\n",
       "</div>"
      ],
      "text/plain": [
       "              a   b   c   d  total_dist\n",
       "one           6   4   5  10          25\n",
       "two           8   5   3   3          19\n",
       "three         5   4   8   4          21\n",
       "four          4  11   7  13          35\n",
       "five          5   8   7   6          26\n",
       "six           7   3   5   9          24\n",
       "total_rolls  35  35  35  45         150"
      ]
     },
     "execution_count": 12,
     "metadata": {},
     "output_type": "execute_result"
    }
   ],
   "source": [
    "df_die"
   ]
  },
  {
   "cell_type": "code",
   "execution_count": 13,
   "metadata": {},
   "outputs": [],
   "source": [
    "# Here Chi Square tests for independence b/t variables.\n",
    "dataset = []\n",
    "# excludes column grand totals\n",
    "for x in df_die.values[:-1]:\n",
    "    # Excludes total_dist\n",
    "    dataset.append(x[:4])\n",
    "\n",
    "dice = np.array(dataset)"
   ]
  },
  {
   "cell_type": "code",
   "execution_count": 14,
   "metadata": {},
   "outputs": [],
   "source": [
    "from scipy import stats"
   ]
  },
  {
   "cell_type": "code",
   "execution_count": 15,
   "metadata": {},
   "outputs": [
    {
     "data": {
      "text/plain": [
       "(16.490612061288754,\n",
       " 0.35021521809742745,\n",
       " 15,\n",
       " array([[ 5.83333333,  5.83333333,  5.83333333,  7.5       ],\n",
       "        [ 4.43333333,  4.43333333,  4.43333333,  5.7       ],\n",
       "        [ 4.9       ,  4.9       ,  4.9       ,  6.3       ],\n",
       "        [ 8.16666667,  8.16666667,  8.16666667, 10.5       ],\n",
       "        [ 6.06666667,  6.06666667,  6.06666667,  7.8       ],\n",
       "        [ 5.6       ,  5.6       ,  5.6       ,  7.2       ]]))"
      ]
     },
     "execution_count": 15,
     "metadata": {},
     "output_type": "execute_result"
    }
   ],
   "source": [
    "stats.chi2_contingency(dice)"
   ]
  },
  {
   "cell_type": "code",
   "execution_count": 16,
   "metadata": {},
   "outputs": [
    {
     "name": "stdout",
     "output_type": "stream",
     "text": [
      "Chi Square Stat: 16.490612061288754\n",
      "P-Value 0.35021521809742745\n",
      "Degrees of Freedom: 15\n",
      "Contingency Table: \n",
      "[[ 5.83333333  5.83333333  5.83333333  7.5       ]\n",
      " [ 4.43333333  4.43333333  4.43333333  5.7       ]\n",
      " [ 4.9         4.9         4.9         6.3       ]\n",
      " [ 8.16666667  8.16666667  8.16666667 10.5       ]\n",
      " [ 6.06666667  6.06666667  6.06666667  7.8       ]\n",
      " [ 5.6         5.6         5.6         7.2       ]]\n"
     ]
    }
   ],
   "source": [
    "print(f\"Chi Square Stat: {stats.chi2_contingency(dice)[0]}\")\n",
    "print(f\"P-Value {stats.chi2_contingency(dice)[1]}\")\n",
    "# Degrees of Freedom Row_Num-1 * Col_Num-1\n",
    "print(f\"Degrees of Freedom: {stats.chi2_contingency(dice)[2]}\")\n",
    "print(f\"Contingency Table: \\n{stats.chi2_contingency(dice)[3]}\")"
   ]
  },
  {
   "cell_type": "code",
   "execution_count": 17,
   "metadata": {},
   "outputs": [
    {
     "data": {
      "text/plain": [
       "15"
      ]
     },
     "execution_count": 17,
     "metadata": {},
     "output_type": "execute_result"
    }
   ],
   "source": [
    "# Manual Degree of Freedom calc\n",
    "(dice.shape[0]-1) * (dice.shape[1]-1)"
   ]
  },
  {
   "cell_type": "code",
   "execution_count": 87,
   "metadata": {},
   "outputs": [],
   "source": [
    "# This needs a function\n",
    "\n",
    "def chi_square_pretty(array, prob=0.95):\n",
    "    arr = stats.chi2_contingency(array)\n",
    "    critical = stats.chi2.ppf(prob, arr[2])\n",
    "    \n",
    "    print(f\"Chi Square Stat: {arr[0]}\\n\")\n",
    "    print(f\"Critical Value: {critical}\\n\")\n",
    "    print(f\"P-Value {arr[1]}\\n\")\n",
    "    # Degrees of Freedom Row_Num-1 * Col_Num-1\n",
    "    print(f\"Degrees of Freedom: {arr[2]}\\n\")\n",
    "    print(f\"Contingency Table: \\n\\n{arr[3]}\\n\\n\")\n",
    "    h0 = ''\n",
    "    if abs(arr[0]) >= critical:\n",
    "        print('Dependent (reject H0)')\n",
    "        h0 = 'Reject H0'\n",
    "    else:\n",
    "        print('Independent (fail to reject H0)')\n",
    "        h0 = 'fail to reject H0'\n",
    "    return pd.DataFrame(arr[3], columns=[i for i in range(1,arr[3].shape[1]+1)], index=[i for i in range(arr[3].shape[0])]), critical, h0"
   ]
  },
  {
   "cell_type": "code",
   "execution_count": 88,
   "metadata": {},
   "outputs": [
    {
     "name": "stdout",
     "output_type": "stream",
     "text": [
      "Chi Square Stat: 16.490612061288754\n",
      "\n",
      "Critical Value: 24.995790139728616\n",
      "\n",
      "P-Value 0.35021521809742745\n",
      "\n",
      "Degrees of Freedom: 15\n",
      "\n",
      "Contingency Table: \n",
      "\n",
      "[[ 5.83333333  5.83333333  5.83333333  7.5       ]\n",
      " [ 4.43333333  4.43333333  4.43333333  5.7       ]\n",
      " [ 4.9         4.9         4.9         6.3       ]\n",
      " [ 8.16666667  8.16666667  8.16666667 10.5       ]\n",
      " [ 6.06666667  6.06666667  6.06666667  7.8       ]\n",
      " [ 5.6         5.6         5.6         7.2       ]]\n",
      "\n",
      "\n",
      "Independent (fail to reject H0)\n"
     ]
    },
    {
     "data": {
      "text/plain": [
       "(          1         2         3     4\n",
       " 0  5.833333  5.833333  5.833333   7.5\n",
       " 1  4.433333  4.433333  4.433333   5.7\n",
       " 2  4.900000  4.900000  4.900000   6.3\n",
       " 3  8.166667  8.166667  8.166667  10.5\n",
       " 4  6.066667  6.066667  6.066667   7.8\n",
       " 5  5.600000  5.600000  5.600000   7.2,\n",
       " 24.995790139728616,\n",
       " 'fail to reject H0')"
      ]
     },
     "execution_count": 88,
     "metadata": {},
     "output_type": "execute_result"
    }
   ],
   "source": [
    "chi_square_pretty(dice)"
   ]
  },
  {
   "cell_type": "markdown",
   "metadata": {},
   "source": [
    "### p-value\n",
    "\n",
    "Here, the p-value is where we will determine significance (aka \n",
    "independence). Typically, you look for a threshold of 0.05 or 0.01.\n",
    "If our test is significant, we reject the null hypothesis (that the\n",
    "variables are indepedent) meaning the variables are depedent.\n",
    "\n",
    "Here, let's use 0.01. We reject the null hypothesis in this case because the p-value is 0.35. The contingency table shows us an output \n",
    "of the expected values. Here, they are off because our sample was too small and it is not representative of the population.\n",
    "\n",
    "Let's do a bigger sample."
   ]
  },
  {
   "cell_type": "code",
   "execution_count": 109,
   "metadata": {},
   "outputs": [
    {
     "data": {
      "text/plain": [
       "Power_divergenceResult(statistic=17.49462365591398, pvalue=0.003651257113910144)"
      ]
     },
     "execution_count": 109,
     "metadata": {},
     "output_type": "execute_result"
    }
   ],
   "source": [
    "my_rolls_expected = [46.5, 46.5, 46.5, 46.5, 46.5, 46.5]\n",
    "my_rolls_actual =  [59, 63, 37, 38, 32, 50]\n",
    "stats.chisquare(my_rolls_actual, my_rolls_expected)"
   ]
  },
  {
   "cell_type": "code",
   "execution_count": 23,
   "metadata": {},
   "outputs": [
    {
     "data": {
      "text/plain": [
       "Power_divergenceResult(statistic=15.158415841584159, pvalue=0.009706469571756566)"
      ]
     },
     "execution_count": 23,
     "metadata": {},
     "output_type": "execute_result"
    }
   ],
   "source": [
    "opp_rolls_expected = [50.5,50.5,50.5,50.5,50.5,50.5]\n",
    "opp_rolls_actual =  [39,39,46,54,53,72]\n",
    "stats.chisquare(opp_rolls_actual, opp_rolls_expected)"
   ]
  },
  {
   "cell_type": "markdown",
   "metadata": {},
   "source": [
    "## ML Application\n",
    "\n",
    "https://machinelearningmastery.com/chi-squared-test-for-machine-learning/\n",
    "\n",
    "A common problem in ML is determining whether input features are relevant to the target variable / outcome to be predicted. This is a _feature selection_ problem.\n",
    "\n",
    "If the input variable is also categorical, we can use statistical tests to see if the output variable is dependent or independent of the input variables.\n",
    "\n"
   ]
  },
  {
   "cell_type": "markdown",
   "metadata": {},
   "source": [
    "#### Contingency Table\n",
    "\n",
    "This is essentially a frequency table for categorical variables for a set of labels. Requires two categorical variables. The name originates from Pearson who wanted to determine whether one variable is contingent upon or depends upon the other variable. \n",
    "\n",
    "#### Pearson's Chi-Squared Test\n",
    "\n",
    "Chi Square test is a _statistical hypothesis test_ that assumes (h0) that the observed frequencies for a categorical variable match the expected frequencies for the categorical variable. \n",
    "\n",
    "Chi = X pronounced \"ki\". \n",
    "\n",
    "Main idea: Observed frequencies match expected frequencies.\n",
    "1. Calculate expected frequencies\n",
    "2. Determine if observed frequencies match expected frequencies.\n",
    "\n",
    "* h0 = Observed and expected are the same.\n",
    "\n",
    "When they are similar the p-value is large (independent). When the p-value is small they are dependent. X^2 does give a measure of distance between observed and expected frequencies. \n",
    "\n",
    "##### Degrees of Freedom: \n",
    "* If __statistic >= critical value__: _Significant, reject H0, dependent._\n",
    "* If __statistic <= critical value__: _Not Significant, fail to reject H0, independent._\n",
    "\n",
    "DoF is calculated using the size of the table:\n",
    "(Row_Num - 1) * (Col_Num - 1) = Dof\n",
    "\n"
   ]
  },
  {
   "cell_type": "code",
   "execution_count": 240,
   "metadata": {},
   "outputs": [
    {
     "name": "stdout",
     "output_type": "stream",
     "text": [
      "Chi Square Stat: 18.52166464972683\n",
      "\n",
      "Critical Value: 31.410432844230918\n",
      "\n",
      "P-Value 0.5530847474070086\n",
      "\n",
      "Degrees of Freedom: 20\n",
      "\n",
      "Contingency Table: \n",
      "\n",
      "[[1659.2 1696.4 1656.2 1648.8 1672.8 1666.6]\n",
      " [1659.2 1696.4 1656.2 1648.8 1672.8 1666.6]\n",
      " [1659.2 1696.4 1656.2 1648.8 1672.8 1666.6]\n",
      " [1659.2 1696.4 1656.2 1648.8 1672.8 1666.6]\n",
      " [1659.2 1696.4 1656.2 1648.8 1672.8 1666.6]]\n",
      "\n",
      "\n",
      "Independent (fail to reject H0)\n",
      "Chi Square Stat: 16.143195065854396\n",
      "\n",
      "Critical Value: 31.410432844230918\n",
      "\n",
      "P-Value 0.7077018555674461\n",
      "\n",
      "Degrees of Freedom: 20\n",
      "\n",
      "Contingency Table: \n",
      "\n",
      "[[1660.8 1665.4 1662.2 1667.8 1665.4 1678.4]\n",
      " [1660.8 1665.4 1662.2 1667.8 1665.4 1678.4]\n",
      " [1660.8 1665.4 1662.2 1667.8 1665.4 1678.4]\n",
      " [1660.8 1665.4 1662.2 1667.8 1665.4 1678.4]\n",
      " [1660.8 1665.4 1662.2 1667.8 1665.4 1678.4]]\n",
      "\n",
      "\n",
      "Independent (fail to reject H0)\n",
      "Chi Square Stat: 32.33933160640615\n",
      "\n",
      "Critical Value: 31.410432844230918\n",
      "\n",
      "P-Value 0.039814068200444454\n",
      "\n",
      "Degrees of Freedom: 20\n",
      "\n",
      "Contingency Table: \n",
      "\n",
      "[[1646.  1656.2 1686.8 1673.4 1655.2 1682.4]\n",
      " [1646.  1656.2 1686.8 1673.4 1655.2 1682.4]\n",
      " [1646.  1656.2 1686.8 1673.4 1655.2 1682.4]\n",
      " [1646.  1656.2 1686.8 1673.4 1655.2 1682.4]\n",
      " [1646.  1656.2 1686.8 1673.4 1655.2 1682.4]]\n",
      "\n",
      "\n",
      "Dependent (reject H0)\n",
      "Chi Square Stat: 27.197311397217135\n",
      "\n",
      "Critical Value: 31.410432844230918\n",
      "\n",
      "P-Value 0.12980350253636402\n",
      "\n",
      "Degrees of Freedom: 20\n",
      "\n",
      "Contingency Table: \n",
      "\n",
      "[[1658.6 1650.  1657.  1680.8 1650.4 1703.2]\n",
      " [1658.6 1650.  1657.  1680.8 1650.4 1703.2]\n",
      " [1658.6 1650.  1657.  1680.8 1650.4 1703.2]\n",
      " [1658.6 1650.  1657.  1680.8 1650.4 1703.2]\n",
      " [1658.6 1650.  1657.  1680.8 1650.4 1703.2]]\n",
      "\n",
      "\n",
      "Independent (fail to reject H0)\n",
      "Chi Square Stat: 17.07716660742948\n",
      "\n",
      "Critical Value: 31.410432844230918\n",
      "\n",
      "P-Value 0.6479573621652107\n",
      "\n",
      "Degrees of Freedom: 20\n",
      "\n",
      "Contingency Table: \n",
      "\n",
      "[[1682.  1658.  1657.  1635.2 1694.2 1673.6]\n",
      " [1682.  1658.  1657.  1635.2 1694.2 1673.6]\n",
      " [1682.  1658.  1657.  1635.2 1694.2 1673.6]\n",
      " [1682.  1658.  1657.  1635.2 1694.2 1673.6]\n",
      " [1682.  1658.  1657.  1635.2 1694.2 1673.6]]\n",
      "\n",
      "\n",
      "Independent (fail to reject H0)\n",
      "Chi Square Stat: 22.718374440568887\n",
      "\n",
      "Critical Value: 31.410432844230918\n",
      "\n",
      "P-Value 0.3028336049111186\n",
      "\n",
      "Degrees of Freedom: 20\n",
      "\n",
      "Contingency Table: \n",
      "\n",
      "[[1669.8 1674.4 1675.2 1667.6 1681.4 1631.6]\n",
      " [1669.8 1674.4 1675.2 1667.6 1681.4 1631.6]\n",
      " [1669.8 1674.4 1675.2 1667.6 1681.4 1631.6]\n",
      " [1669.8 1674.4 1675.2 1667.6 1681.4 1631.6]\n",
      " [1669.8 1674.4 1675.2 1667.6 1681.4 1631.6]]\n",
      "\n",
      "\n",
      "Independent (fail to reject H0)\n",
      "Chi Square Stat: 18.864702165813807\n",
      "\n",
      "Critical Value: 31.410432844230918\n",
      "\n",
      "P-Value 0.5306355551257323\n",
      "\n",
      "Degrees of Freedom: 20\n",
      "\n",
      "Contingency Table: \n",
      "\n",
      "[[1651.6 1651.  1676.2 1686.  1662.  1673.2]\n",
      " [1651.6 1651.  1676.2 1686.  1662.  1673.2]\n",
      " [1651.6 1651.  1676.2 1686.  1662.  1673.2]\n",
      " [1651.6 1651.  1676.2 1686.  1662.  1673.2]\n",
      " [1651.6 1651.  1676.2 1686.  1662.  1673.2]]\n",
      "\n",
      "\n",
      "Independent (fail to reject H0)\n",
      "Chi Square Stat: 18.848047528006646\n",
      "\n",
      "Critical Value: 31.410432844230918\n",
      "\n",
      "P-Value 0.5317219460598216\n",
      "\n",
      "Degrees of Freedom: 20\n",
      "\n",
      "Contingency Table: \n",
      "\n",
      "[[1650.  1657.  1659.6 1684.8 1681.  1667.6]\n",
      " [1650.  1657.  1659.6 1684.8 1681.  1667.6]\n",
      " [1650.  1657.  1659.6 1684.8 1681.  1667.6]\n",
      " [1650.  1657.  1659.6 1684.8 1681.  1667.6]\n",
      " [1650.  1657.  1659.6 1684.8 1681.  1667.6]]\n",
      "\n",
      "\n",
      "Independent (fail to reject H0)\n",
      "Chi Square Stat: 13.972362243627956\n",
      "\n",
      "Critical Value: 31.410432844230918\n",
      "\n",
      "P-Value 0.8318944651360968\n",
      "\n",
      "Degrees of Freedom: 20\n",
      "\n",
      "Contingency Table: \n",
      "\n",
      "[[1652.  1690.6 1636.6 1677.  1656.4 1687.4]\n",
      " [1652.  1690.6 1636.6 1677.  1656.4 1687.4]\n",
      " [1652.  1690.6 1636.6 1677.  1656.4 1687.4]\n",
      " [1652.  1690.6 1636.6 1677.  1656.4 1687.4]\n",
      " [1652.  1690.6 1636.6 1677.  1656.4 1687.4]]\n",
      "\n",
      "\n",
      "Independent (fail to reject H0)\n",
      "Chi Square Stat: 26.547355297354866\n",
      "\n",
      "Critical Value: 31.410432844230918\n",
      "\n",
      "P-Value 0.1484857607669024\n",
      "\n",
      "Degrees of Freedom: 20\n",
      "\n",
      "Contingency Table: \n",
      "\n",
      "[[1671.2 1678.4 1672.8 1652.2 1655.2 1670.2]\n",
      " [1671.2 1678.4 1672.8 1652.2 1655.2 1670.2]\n",
      " [1671.2 1678.4 1672.8 1652.2 1655.2 1670.2]\n",
      " [1671.2 1678.4 1672.8 1652.2 1655.2 1670.2]\n",
      " [1671.2 1678.4 1672.8 1652.2 1655.2 1670.2]]\n",
      "\n",
      "\n",
      "Independent (fail to reject H0)\n",
      "Chi Square Stat: 11.014462284379935\n",
      "\n",
      "Critical Value: 31.410432844230918\n",
      "\n",
      "P-Value 0.9458466178578646\n",
      "\n",
      "Degrees of Freedom: 20\n",
      "\n",
      "Contingency Table: \n",
      "\n",
      "[[1677.6 1652.4 1647.2 1683.6 1700.2 1639. ]\n",
      " [1677.6 1652.4 1647.2 1683.6 1700.2 1639. ]\n",
      " [1677.6 1652.4 1647.2 1683.6 1700.2 1639. ]\n",
      " [1677.6 1652.4 1647.2 1683.6 1700.2 1639. ]\n",
      " [1677.6 1652.4 1647.2 1683.6 1700.2 1639. ]]\n",
      "\n",
      "\n",
      "Independent (fail to reject H0)\n",
      "Chi Square Stat: 17.85943018159337\n",
      "\n",
      "Critical Value: 31.410432844230918\n",
      "\n",
      "P-Value 0.5966678271211769\n",
      "\n",
      "Degrees of Freedom: 20\n",
      "\n",
      "Contingency Table: \n",
      "\n",
      "[[1698.8 1617.8 1675.8 1680.2 1645.4 1682. ]\n",
      " [1698.8 1617.8 1675.8 1680.2 1645.4 1682. ]\n",
      " [1698.8 1617.8 1675.8 1680.2 1645.4 1682. ]\n",
      " [1698.8 1617.8 1675.8 1680.2 1645.4 1682. ]\n",
      " [1698.8 1617.8 1675.8 1680.2 1645.4 1682. ]]\n",
      "\n",
      "\n",
      "Independent (fail to reject H0)\n",
      "Chi Square Stat: 23.18438225328738\n",
      "\n",
      "Critical Value: 31.410432844230918\n",
      "\n",
      "P-Value 0.2798319414219108\n",
      "\n",
      "Degrees of Freedom: 20\n",
      "\n",
      "Contingency Table: \n",
      "\n",
      "[[1676.6 1689.2 1634.6 1655.  1681.6 1663. ]\n",
      " [1676.6 1689.2 1634.6 1655.  1681.6 1663. ]\n",
      " [1676.6 1689.2 1634.6 1655.  1681.6 1663. ]\n",
      " [1676.6 1689.2 1634.6 1655.  1681.6 1663. ]\n",
      " [1676.6 1689.2 1634.6 1655.  1681.6 1663. ]]\n",
      "\n",
      "\n",
      "Independent (fail to reject H0)\n",
      "Chi Square Stat: 29.174942923687365\n",
      "\n",
      "Critical Value: 31.410432844230918\n",
      "\n",
      "P-Value 0.08437141035275324\n",
      "\n",
      "Degrees of Freedom: 20\n",
      "\n",
      "Contingency Table: \n",
      "\n",
      "[[1669.8 1681.  1662.2 1660.4 1664.6 1662. ]\n",
      " [1669.8 1681.  1662.2 1660.4 1664.6 1662. ]\n",
      " [1669.8 1681.  1662.2 1660.4 1664.6 1662. ]\n",
      " [1669.8 1681.  1662.2 1660.4 1664.6 1662. ]\n",
      " [1669.8 1681.  1662.2 1660.4 1664.6 1662. ]]\n",
      "\n",
      "\n",
      "Independent (fail to reject H0)\n",
      "Chi Square Stat: 17.215680728599168\n",
      "\n",
      "Critical Value: 31.410432844230918\n",
      "\n",
      "P-Value 0.6389274399220262\n",
      "\n",
      "Degrees of Freedom: 20\n",
      "\n",
      "Contingency Table: \n",
      "\n",
      "[[1650.8 1684.4 1664.8 1654.2 1685.4 1660.4]\n",
      " [1650.8 1684.4 1664.8 1654.2 1685.4 1660.4]\n",
      " [1650.8 1684.4 1664.8 1654.2 1685.4 1660.4]\n",
      " [1650.8 1684.4 1664.8 1654.2 1685.4 1660.4]\n",
      " [1650.8 1684.4 1664.8 1654.2 1685.4 1660.4]]\n",
      "\n",
      "\n",
      "Independent (fail to reject H0)\n",
      "Chi Square Stat: 19.701504682313733\n",
      "\n",
      "Critical Value: 31.410432844230918\n",
      "\n",
      "P-Value 0.47673577591640837\n",
      "\n",
      "Degrees of Freedom: 20\n",
      "\n",
      "Contingency Table: \n",
      "\n",
      "[[1653.4 1687.6 1680.4 1654.6 1652.2 1671.8]\n",
      " [1653.4 1687.6 1680.4 1654.6 1652.2 1671.8]\n",
      " [1653.4 1687.6 1680.4 1654.6 1652.2 1671.8]\n",
      " [1653.4 1687.6 1680.4 1654.6 1652.2 1671.8]\n",
      " [1653.4 1687.6 1680.4 1654.6 1652.2 1671.8]]\n",
      "\n",
      "\n",
      "Independent (fail to reject H0)\n",
      "Chi Square Stat: 20.147458165375593\n",
      "\n",
      "Critical Value: 31.410432844230918\n",
      "\n",
      "P-Value 0.44874013284988845\n",
      "\n",
      "Degrees of Freedom: 20\n",
      "\n",
      "Contingency Table: \n",
      "\n",
      "[[1658.8 1674.8 1684.4 1648.6 1685.6 1647.8]\n",
      " [1658.8 1674.8 1684.4 1648.6 1685.6 1647.8]\n",
      " [1658.8 1674.8 1684.4 1648.6 1685.6 1647.8]\n",
      " [1658.8 1674.8 1684.4 1648.6 1685.6 1647.8]\n",
      " [1658.8 1674.8 1684.4 1648.6 1685.6 1647.8]]\n",
      "\n",
      "\n",
      "Independent (fail to reject H0)\n",
      "Chi Square Stat: 19.58862768766374\n",
      "\n",
      "Critical Value: 31.410432844230918\n",
      "\n",
      "P-Value 0.48391284327301987\n",
      "\n",
      "Degrees of Freedom: 20\n",
      "\n",
      "Contingency Table: \n",
      "\n",
      "[[1652.2 1637.8 1687.8 1691.6 1655.  1675.6]\n",
      " [1652.2 1637.8 1687.8 1691.6 1655.  1675.6]\n",
      " [1652.2 1637.8 1687.8 1691.6 1655.  1675.6]\n",
      " [1652.2 1637.8 1687.8 1691.6 1655.  1675.6]\n",
      " [1652.2 1637.8 1687.8 1691.6 1655.  1675.6]]\n",
      "\n",
      "\n",
      "Independent (fail to reject H0)\n",
      "Chi Square Stat: 21.776899454782757\n",
      "\n",
      "Critical Value: 31.410432844230918\n",
      "\n",
      "P-Value 0.35273838796414614\n",
      "\n",
      "Degrees of Freedom: 20\n",
      "\n",
      "Contingency Table: \n",
      "\n",
      "[[1655.4 1678.6 1667.4 1691.4 1664.6 1642.6]\n",
      " [1655.4 1678.6 1667.4 1691.4 1664.6 1642.6]\n",
      " [1655.4 1678.6 1667.4 1691.4 1664.6 1642.6]\n",
      " [1655.4 1678.6 1667.4 1691.4 1664.6 1642.6]\n",
      " [1655.4 1678.6 1667.4 1691.4 1664.6 1642.6]]\n",
      "\n",
      "\n",
      "Independent (fail to reject H0)\n",
      "Chi Square Stat: 13.155655212564584\n",
      "\n",
      "Critical Value: 31.410432844230918\n",
      "\n",
      "P-Value 0.870606082664368\n",
      "\n",
      "Degrees of Freedom: 20\n",
      "\n",
      "Contingency Table: \n",
      "\n",
      "[[1662.4 1656.6 1677.8 1683.4 1669.  1650.8]\n",
      " [1662.4 1656.6 1677.8 1683.4 1669.  1650.8]\n",
      " [1662.4 1656.6 1677.8 1683.4 1669.  1650.8]\n",
      " [1662.4 1656.6 1677.8 1683.4 1669.  1650.8]\n",
      " [1662.4 1656.6 1677.8 1683.4 1669.  1650.8]]\n",
      "\n",
      "\n",
      "Independent (fail to reject H0)\n"
     ]
    }
   ],
   "source": [
    "# Stores result of whether X^2 test was accepted or rejected\n",
    "h0_results = []\n",
    "\n",
    "for j in range(20):\n",
    "    bigger_data = []\n",
    "    for i in range(5):\n",
    "        bigger_data.append(np.unique(np.random.randint(1,7,10000), return_counts=True)[1])\n",
    "\n",
    "    bigger_data = np.array(bigger_data)\n",
    "    h0_results.append(chi_square_pretty(bigger_data, .95)[2])"
   ]
  },
  {
   "cell_type": "code",
   "execution_count": 241,
   "metadata": {},
   "outputs": [
    {
     "data": {
      "text/plain": [
       "['fail to reject H0',\n",
       " 'fail to reject H0',\n",
       " 'Reject H0',\n",
       " 'fail to reject H0',\n",
       " 'fail to reject H0',\n",
       " 'fail to reject H0',\n",
       " 'fail to reject H0',\n",
       " 'fail to reject H0',\n",
       " 'fail to reject H0',\n",
       " 'fail to reject H0',\n",
       " 'fail to reject H0',\n",
       " 'fail to reject H0',\n",
       " 'fail to reject H0',\n",
       " 'fail to reject H0',\n",
       " 'fail to reject H0',\n",
       " 'fail to reject H0',\n",
       " 'fail to reject H0',\n",
       " 'fail to reject H0',\n",
       " 'fail to reject H0',\n",
       " 'fail to reject H0']"
      ]
     },
     "execution_count": 241,
     "metadata": {},
     "output_type": "execute_result"
    }
   ],
   "source": [
    "# Failing to reject indicates independence whereas rejecting means\n",
    "# dependence.\n",
    "h0_results\n"
   ]
  },
  {
   "cell_type": "code",
   "execution_count": 242,
   "metadata": {},
   "outputs": [
    {
     "name": "stdout",
     "output_type": "stream",
     "text": [
      "(30.754430703005184, 0.058516969391599644, 20, array([[170.8, 167.6, 165.2, 164.8, 161.6, 170. ],\n",
      "       [170.8, 167.6, 165.2, 164.8, 161.6, 170. ],\n",
      "       [170.8, 167.6, 165.2, 164.8, 161.6, 170. ],\n",
      "       [170.8, 167.6, 165.2, 164.8, 161.6, 170. ],\n",
      "       [170.8, 167.6, 165.2, 164.8, 161.6, 170. ]]))\n"
     ]
    }
   ],
   "source": [
    "# Stores result of whether X^2 test was accepted or rejected\n",
    "data = []\n",
    "\n",
    "for j in range(10000):\n",
    "    bigger_data = []\n",
    "    for i in range(5):\n",
    "        bigger_data.append(np.unique(np.random.randint(1,7,1000), return_counts=True)[1])\n",
    "\n",
    "    bigger_data = np.array(bigger_data)\n",
    "    data.append(stats.chi2_contingency(bigger_data)[0])\n",
    "    \n",
    "print(stats.chi2_contingency(bigger_data))"
   ]
  },
  {
   "cell_type": "code",
   "execution_count": 243,
   "metadata": {},
   "outputs": [],
   "source": [
    "%matplotlib inline\n",
    "import matplotlib.pyplot as plt\n",
    "import seaborn as sns"
   ]
  },
  {
   "cell_type": "markdown",
   "metadata": {},
   "source": [
    "Docs related to generating a chi2 plot.\n",
    "\n",
    "https://docs.scipy.org/doc/scipy/reference/generated/scipy.stats.chi2.html"
   ]
  },
  {
   "cell_type": "code",
   "execution_count": 252,
   "metadata": {},
   "outputs": [
    {
     "data": {
      "image/png": "[encoded data removed]",
      "text/plain": [
       "<Figure size 432x288 with 1 Axes>"
      ]
     },
     "metadata": {
      "needs_background": "light"
     },
     "output_type": "display_data"
    }
   ],
   "source": [
    "fig, ax = plt.subplots(1,1)\n",
    "\n",
    "# PPF - Percent Point Function \n",
    "# (inverse of cdf [cumulative density function] percentiles)\n",
    "x = np.linspace(stats.chi2.ppf(0.01, 20), \n",
    "                stats.chi2.ppf(0.99, 20), 100)\n",
    "\n",
    "# Probability Density Plot for df=20\n",
    "ax.plot(x, stats.chi2.pdf(x, 20), lw=6, alpha=.9, label='chi2 pdf')\n",
    "\n",
    "# Histogram of chi2 stats\n",
    "ax.hist(data, label='chi', bins=100, density=True)\n",
    "plt.show()"
   ]
  },
  {
   "cell_type": "code",
   "execution_count": null,
   "metadata": {},
   "outputs": [],
   "source": []
  }
 ],
 "metadata": {
  "kernelspec": {
   "display_name": "Python 3",
   "language": "python",
   "name": "python3"
  },
  "language_info": {
   "codemirror_mode": {
    "name": "ipython",
    "version": 3
   },
   "file_extension": ".py",
   "mimetype": "text/x-python",
   "name": "python",
   "nbconvert_exporter": "python",
   "pygments_lexer": "ipython3",
   "version": "3.7.6"
  }
 },
 "nbformat": 4,
 "nbformat_minor": 4
}
