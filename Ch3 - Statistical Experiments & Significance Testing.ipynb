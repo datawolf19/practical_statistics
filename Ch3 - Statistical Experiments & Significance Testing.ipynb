{
 "cells": [
  {
   "cell_type": "markdown",
   "metadata": {},
   "source": [
    "# Design of Experiment\n",
    "\n",
    "The purpose of Design of Experiment (\"DOE\") is to confirm or reject the null hypothesis (\"H0\"). \n",
    "\n",
    "## AB Test\n",
    "* The control is the existing treatment/method.\n",
    "* The typical hypothesis is that the _test_ is better than the _control_.\n",
    "\n",
    "## Quick Terminology\n",
    "* Treatment - something to which the subject is exposed to.\n",
    "* Treatment group - group of subjects exposed to a specific treatment.\n",
    "* Control group - group not exposed to the treatment.\n",
    "* Randomization - the process of randomly assigning the treatment to subjects.\n",
    "* Subject - the thing exposed to treatments.\n",
    "* Test statistic - the metric used to measure the effect of the treatment. \n",
    "\n",
    "### Use Cases:\n",
    "1. Popular in web design & marketing because they can be measured.\n",
    "\n",
    "## Random Selection\n",
    "Is used to:\n",
    "1. Test the effect of different treatments.\n",
    "2. Determine whether it was due to luck of the draw.\n",
    "* Note that the goal is to determine whether the difference is due to the treatment or chance. \n",
    "* Care should be taken when choosing the test statistic to use for comparing both groups.\n",
    "* The most common metric is binary.\n",
    " * i.e., Click v. No Click \n",
    " * This can be summarized in a 2 x 2 table"
   ]
  },
  {
   "cell_type": "code",
   "execution_count": null,
   "metadata": {},
   "outputs": [],
   "source": []
  }
 ],
 "metadata": {
  "kernelspec": {
   "display_name": "Python 3",
   "language": "python",
   "name": "python3"
  },
  "language_info": {
   "codemirror_mode": {
    "name": "ipython",
    "version": 3
   },
   "file_extension": ".py",
   "mimetype": "text/x-python",
   "name": "python",
   "nbconvert_exporter": "python",
   "pygments_lexer": "ipython3",
   "version": "3.7.6"
  }
 },
 "nbformat": 4,
 "nbformat_minor": 4
}
